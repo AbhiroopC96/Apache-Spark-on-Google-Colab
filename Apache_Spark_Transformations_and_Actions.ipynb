{
  "nbformat": 4,
  "nbformat_minor": 0,
  "metadata": {
    "colab": {
      "name": "Apache Spark- Transformations and Actions.ipynb",
      "provenance": []
    },
    "kernelspec": {
      "name": "python3",
      "display_name": "Python 3"
    }
  },
  "cells": [
    {
      "cell_type": "code",
      "metadata": {
        "id": "-yKw3L-lSZeT"
      },
      "source": [
        "!apt-get install openjdk-8-jdk-headless -qq > /dev/null\r\n",
        "!wget -q https://www-us.apache.org/dist/spark/spark-3.1.1/spark-3.1.1-bin-hadoop2.7.tgz\r\n",
        "!tar xf spark-3.1.1-bin-hadoop2.7.tgz\r\n",
        "!pip install -q findspark"
      ],
      "execution_count": 2,
      "outputs": []
    },
    {
      "cell_type": "code",
      "metadata": {
        "id": "hriQgBIPS8yv"
      },
      "source": [
        "import os\r\n",
        "os.environ[\"JAVA_HOME\"] = \"/usr/lib/jvm/java-8-openjdk-amd64\"\r\n",
        "os.environ[\"SPARK_HOME\"] = \"/content/spark-3.1.1-bin-hadoop2.7\""
      ],
      "execution_count": 3,
      "outputs": []
    },
    {
      "cell_type": "code",
      "metadata": {
        "colab": {
          "base_uri": "https://localhost:8080/"
        },
        "id": "82YzPKeUVSvJ",
        "outputId": "6e3c6ab2-f0be-436e-d5cc-4771333efd6a"
      },
      "source": [
        "!pip install -U pyarrow #pyarrow is spark and pandas compatible. No need to do pickling and unpickling"
      ],
      "execution_count": 4,
      "outputs": [
        {
          "output_type": "stream",
          "text": [
            "Requirement already up-to-date: pyarrow in /usr/local/lib/python3.7/dist-packages (3.0.0)\n",
            "Requirement already satisfied, skipping upgrade: numpy>=1.16.6 in /usr/local/lib/python3.7/dist-packages (from pyarrow) (1.19.5)\n"
          ],
          "name": "stdout"
        }
      ]
    },
    {
      "cell_type": "code",
      "metadata": {
        "id": "X-chI9B-X1SB"
      },
      "source": [
        "import findspark\r\n",
        "findspark.init()\r\n",
        "from pyspark.sql import SparkSession\r\n",
        "spark = SparkSession.builder.master(\"local[*]\").getOrCreate()"
      ],
      "execution_count": 5,
      "outputs": []
    },
    {
      "cell_type": "code",
      "metadata": {
        "id": "cAPqtmPaYyn7"
      },
      "source": [
        "import sys,tempfile, urllib.request  #use urllib.request instead of urllib\r\n",
        "from pyspark.sql.functions import *"
      ],
      "execution_count": 9,
      "outputs": []
    },
    {
      "cell_type": "code",
      "metadata": {
        "id": "I-6buA4tbyTM"
      },
      "source": [
        "\r\n",
        "BASE_DIR = '/tmp'\r\n",
        "CHURN_DATA_FILE = os.path.join(BASE_DIR, 'Churn_Modelling.csv')"
      ],
      "execution_count": 7,
      "outputs": []
    },
    {
      "cell_type": "code",
      "metadata": {
        "id": "vgTS3B5ucDpb"
      },
      "source": [
        "churn_data=urllib.request.urlretrieve('https://raw.githubusercontent.com/AbhiroopC96/Apache-Spark-on-Google-Colab/main/Churn_Modelling.csv',CHURN_DATA_FILE)"
      ],
      "execution_count": 12,
      "outputs": []
    },
    {
      "cell_type": "code",
      "metadata": {
        "colab": {
          "base_uri": "https://localhost:8080/"
        },
        "id": "m_V-PDdlcpE3",
        "outputId": "37a74a75-9c4a-415a-8aca-58406dfbd719"
      },
      "source": [
        "!ls /tmp"
      ],
      "execution_count": 13,
      "outputs": [
        {
          "output_type": "stream",
          "text": [
            "blockmgr-bc9d8fae-d933-4e86-84a3-afda2f806823\n",
            "Churn_Modelling.csv\n",
            "dap_multiplexer.904bf7d9be55.root.log.INFO.20210304-080512.47\n",
            "dap_multiplexer.INFO\n",
            "debugger_1v7geqxsgz\n",
            "hsperfdata_root\n",
            "initgoogle_syslog_dir.0\n",
            "spark-67cf2b41-a228-422a-a652-4a53c1bacb33\n",
            "spark-7be2add3-a292-46fb-9aea-9d9ec4f5e07c\n"
          ],
          "name": "stdout"
        }
      ]
    },
    {
      "cell_type": "code",
      "metadata": {
        "id": "0QN2PK8MeHit"
      },
      "source": [
        "churn_df = spark.read.option(\"inferSchema\", \"true\").csv(\"/tmp/Churn_Modelling.csv\", header=True)"
      ],
      "execution_count": 16,
      "outputs": []
    },
    {
      "cell_type": "code",
      "metadata": {
        "colab": {
          "base_uri": "https://localhost:8080/"
        },
        "id": "N9I37JdlecG2",
        "outputId": "da47eb5a-37ee-4703-dc31-126324c79b32"
      },
      "source": [
        "churn_df.count()"
      ],
      "execution_count": 17,
      "outputs": [
        {
          "output_type": "execute_result",
          "data": {
            "text/plain": [
              "10000"
            ]
          },
          "metadata": {
            "tags": []
          },
          "execution_count": 17
        }
      ]
    },
    {
      "cell_type": "code",
      "metadata": {
        "colab": {
          "base_uri": "https://localhost:8080/"
        },
        "id": "MBUfE4tHe3VK",
        "outputId": "ff2d0646-a5f9-479d-b27c-62294c1bdea8"
      },
      "source": [
        "churn_df.show()"
      ],
      "execution_count": 18,
      "outputs": [
        {
          "output_type": "stream",
          "text": [
            "+---------+----------+---------+-----------+---------+------+---+------+---------+-------------+---------+--------------+---------------+------+\n",
            "|RowNumber|CustomerId|  Surname|CreditScore|Geography|Gender|Age|Tenure|  Balance|NumOfProducts|HasCrCard|IsActiveMember|EstimatedSalary|Exited|\n",
            "+---------+----------+---------+-----------+---------+------+---+------+---------+-------------+---------+--------------+---------------+------+\n",
            "|        1|  15634602| Hargrave|        619|   France|Female| 42|     2|      0.0|            1|        1|             1|      101348.88|     1|\n",
            "|        2|  15647311|     Hill|        608|    Spain|Female| 41|     1| 83807.86|            1|        0|             1|      112542.58|     0|\n",
            "|        3|  15619304|     Onio|        502|   France|Female| 42|     8| 159660.8|            3|        1|             0|      113931.57|     1|\n",
            "|        4|  15701354|     Boni|        699|   France|Female| 39|     1|      0.0|            2|        0|             0|       93826.63|     0|\n",
            "|        5|  15737888| Mitchell|        850|    Spain|Female| 43|     2|125510.82|            1|        1|             1|        79084.1|     0|\n",
            "|        6|  15574012|      Chu|        645|    Spain|  Male| 44|     8|113755.78|            2|        1|             0|      149756.71|     1|\n",
            "|        7|  15592531| Bartlett|        822|   France|  Male| 50|     7|      0.0|            2|        1|             1|        10062.8|     0|\n",
            "|        8|  15656148|   Obinna|        376|  Germany|Female| 29|     4|115046.74|            4|        1|             0|      119346.88|     1|\n",
            "|        9|  15792365|       He|        501|   France|  Male| 44|     4|142051.07|            2|        0|             1|        74940.5|     0|\n",
            "|       10|  15592389|       H?|        684|   France|  Male| 27|     2|134603.88|            1|        1|             1|       71725.73|     0|\n",
            "|       11|  15767821|   Bearce|        528|   France|  Male| 31|     6|102016.72|            2|        0|             0|       80181.12|     0|\n",
            "|       12|  15737173|  Andrews|        497|    Spain|  Male| 24|     3|      0.0|            2|        1|             0|       76390.01|     0|\n",
            "|       13|  15632264|      Kay|        476|   France|Female| 34|    10|      0.0|            2|        1|             0|       26260.98|     0|\n",
            "|       14|  15691483|     Chin|        549|   France|Female| 25|     5|      0.0|            2|        0|             0|      190857.79|     0|\n",
            "|       15|  15600882|    Scott|        635|    Spain|Female| 35|     7|      0.0|            2|        1|             1|       65951.65|     0|\n",
            "|       16|  15643966|  Goforth|        616|  Germany|  Male| 45|     3|143129.41|            2|        0|             1|       64327.26|     0|\n",
            "|       17|  15737452|    Romeo|        653|  Germany|  Male| 58|     1|132602.88|            1|        1|             0|        5097.67|     1|\n",
            "|       18|  15788218|Henderson|        549|    Spain|Female| 24|     9|      0.0|            2|        1|             1|       14406.41|     0|\n",
            "|       19|  15661507|  Muldrow|        587|    Spain|  Male| 45|     6|      0.0|            1|        0|             0|      158684.81|     0|\n",
            "|       20|  15568982|      Hao|        726|   France|Female| 24|     6|      0.0|            2|        1|             1|       54724.03|     0|\n",
            "+---------+----------+---------+-----------+---------+------+---+------+---------+-------------+---------+--------------+---------------+------+\n",
            "only showing top 20 rows\n",
            "\n"
          ],
          "name": "stdout"
        }
      ]
    },
    {
      "cell_type": "code",
      "metadata": {
        "colab": {
          "base_uri": "https://localhost:8080/"
        },
        "id": "x5rFkirbe695",
        "outputId": "0aa5646f-e952-458a-eeff-0d0fe49c9c0b"
      },
      "source": [
        "churn_df.filter(\"Geography='Germany'\")"
      ],
      "execution_count": 22,
      "outputs": [
        {
          "output_type": "execute_result",
          "data": {
            "text/plain": [
              "DataFrame[RowNumber: int, CustomerId: int, Surname: string, CreditScore: int, Geography: string, Gender: string, Age: int, Tenure: int, Balance: double, NumOfProducts: int, HasCrCard: int, IsActiveMember: int, EstimatedSalary: double, Exited: int]"
            ]
          },
          "metadata": {
            "tags": []
          },
          "execution_count": 22
        }
      ]
    },
    {
      "cell_type": "code",
      "metadata": {
        "colab": {
          "base_uri": "https://localhost:8080/"
        },
        "id": "6xQu7NSVg5Kg",
        "outputId": "a1645b45-202e-4e25-a089-1cb65a1832b5"
      },
      "source": [
        "churn_df.filter(\"Geography='Germany'\").show()"
      ],
      "execution_count": 23,
      "outputs": [
        {
          "output_type": "stream",
          "text": [
            "+---------+----------+----------+-----------+---------+------+---+------+---------+-------------+---------+--------------+---------------+------+\n",
            "|RowNumber|CustomerId|   Surname|CreditScore|Geography|Gender|Age|Tenure|  Balance|NumOfProducts|HasCrCard|IsActiveMember|EstimatedSalary|Exited|\n",
            "+---------+----------+----------+-----------+---------+------+---+------+---------+-------------+---------+--------------+---------------+------+\n",
            "|        8|  15656148|    Obinna|        376|  Germany|Female| 29|     4|115046.74|            4|        1|             0|      119346.88|     1|\n",
            "|       16|  15643966|   Goforth|        616|  Germany|  Male| 45|     3|143129.41|            2|        0|             1|       64327.26|     0|\n",
            "|       17|  15737452|     Romeo|        653|  Germany|  Male| 58|     1|132602.88|            1|        1|             0|        5097.67|     1|\n",
            "|       27|  15736816|     Young|        756|  Germany|  Male| 36|     2|136815.64|            1|        1|             1|      170041.95|     0|\n",
            "|       29|  15728693|McWilliams|        574|  Germany|Female| 43|     3|141349.43|            1|        1|             1|      100187.43|     0|\n",
            "|       33|  15750181| Sanderson|        553|  Germany|  Male| 41|     9|110112.54|            2|        0|             0|       81898.81|     0|\n",
            "|       40|  15585768|   Cameron|        582|  Germany|  Male| 41|     6| 70349.48|            2|        0|             1|      178074.04|     0|\n",
            "|       46|  15754849|     Tyler|        776|  Germany|Female| 32|     4|109421.13|            2|        1|             1|      126517.46|     0|\n",
            "|       47|  15602280|    Martin|        829|  Germany|Female| 27|     9|112045.67|            1|        1|             1|      119708.21|     1|\n",
            "|       48|  15771573|   Okagbue|        637|  Germany|Female| 39|     9| 137843.8|            1|        1|             1|       117622.8|     1|\n",
            "|       49|  15766205|       Yin|        550|  Germany|  Male| 38|     2|103391.38|            1|        0|             1|       90878.13|     0|\n",
            "|       50|  15771873|    Buccho|        776|  Germany|Female| 37|     2|103769.22|            2|        1|             0|      194099.12|     0|\n",
            "|       51|  15616550|Chidiebele|        698|  Germany|  Male| 44|    10|116363.37|            2|        1|             0|      198059.16|     0|\n",
            "|       52|  15768193| Trevisani|        585|  Germany|  Male| 36|     5|146050.97|            2|        0|             0|       86424.57|     0|\n",
            "|       54|  15702298|  Parkhill|        655|  Germany|  Male| 41|     8|125561.97|            1|        0|             0|      164040.94|     1|\n",
            "|       55|  15569590|       Yoo|        601|  Germany|  Male| 42|     1| 98495.72|            1|        1|             0|       40014.76|     1|\n",
            "|       58|  15647091|  Endrizzi|        725|  Germany|  Male| 19|     0|  75888.2|            1|        0|             0|       45613.75|     0|\n",
            "|       61|  15651280|    Hunter|        742|  Germany|  Male| 35|     5| 136857.0|            1|        0|             0|       84509.57|     0|\n",
            "|       62|  15773469|     Clark|        687|  Germany|Female| 27|     9|152328.88|            2|        0|             0|      126494.82|     0|\n",
            "|       65|  15592461|   Jackson|        603|  Germany|  Male| 26|     4|109166.37|            1|        1|             1|       92840.67|     0|\n",
            "+---------+----------+----------+-----------+---------+------+---+------+---------+-------------+---------+--------------+---------------+------+\n",
            "only showing top 20 rows\n",
            "\n"
          ],
          "name": "stdout"
        }
      ]
    },
    {
      "cell_type": "code",
      "metadata": {
        "colab": {
          "base_uri": "https://localhost:8080/"
        },
        "id": "4Jcjo7t3hZo-",
        "outputId": "b49800c7-ebb8-4dda-cd20-52b1bae8de6a"
      },
      "source": [
        "churn_df.filter(\"Geography='Germany' and Surname like 'C%' \").show()  #people from Germany and their surnames starting with a C"
      ],
      "execution_count": 26,
      "outputs": [
        {
          "output_type": "stream",
          "text": [
            "+---------+----------+----------+-----------+---------+------+---+------+---------+-------------+---------+--------------+---------------+------+\n",
            "|RowNumber|CustomerId|   Surname|CreditScore|Geography|Gender|Age|Tenure|  Balance|NumOfProducts|HasCrCard|IsActiveMember|EstimatedSalary|Exited|\n",
            "+---------+----------+----------+-----------+---------+------+---+------+---------+-------------+---------+--------------+---------------+------+\n",
            "|       40|  15585768|   Cameron|        582|  Germany|  Male| 41|     6| 70349.48|            2|        0|             1|      178074.04|     0|\n",
            "|       51|  15616550|Chidiebele|        698|  Germany|  Male| 44|    10|116363.37|            2|        1|             0|      198059.16|     0|\n",
            "|       62|  15773469|     Clark|        687|  Germany|Female| 27|     9|152328.88|            2|        0|             0|      126494.82|     0|\n",
            "|       68|  15641582|   Chibugo|        735|  Germany|  Male| 43|    10|123180.01|            2|        1|             1|      196673.28|     0|\n",
            "|      119|  15661670|  Chidozie|        524|  Germany|Female| 31|     8|107818.63|            1|        1|             0|      199725.39|     1|\n",
            "|      124|  15760085| Calabresi|        684|  Germany|Female| 48|    10|126384.42|            1|        1|             1|      198129.36|     0|\n",
            "|      135|  15712543| Chinweike|        789|  Germany|  Male| 39|     7|124828.46|            2|        1|             1|      124411.08|     0|\n",
            "|      160|  15804017|  Chigolum|        631|  Germany|Female| 33|     4| 123246.7|            1|        0|             0|      112687.57|     0|\n",
            "|      228|  15676895|  Cattaneo|        547|  Germany|Female| 39|     6| 74596.15|            3|        1|             1|       85746.52|     1|\n",
            "|      291|  15652266|Chidiebele|        703|  Germany|  Male| 42|     9|  63227.0|            1|        0|             1|      137316.32|     0|\n",
            "|      312|  15702919|   Collins|        729|  Germany|  Male| 30|     6| 63669.42|            1|        1|             0|      145111.37|     0|\n",
            "|      364|  15745088|      Chen|        443|  Germany|Female| 29|     9| 99027.61|            2|        1|             0|        10940.4|     0|\n",
            "|      372|  15774696|      Cole|        640|  Germany|Female| 75|     1|106307.91|            2|        0|             1|      113428.77|     0|\n",
            "|      396|  15807432|     Cheng|        645|  Germany|Female| 37|     2|136925.09|            2|        0|             1|      153400.24|     0|\n",
            "|      414|  15801559|    Chiang|        693|  Germany|Female| 41|     9|181461.48|            3|        1|             1|      187929.43|     1|\n",
            "|      427|  15652883|     Chung|        492|  Germany|  Male| 39|    10|124576.65|            2|        1|             0|      148584.61|     0|\n",
            "|      437|  15693737|      Carr|        627|  Germany|Female| 30|     4| 79871.02|            2|        1|             0|      129826.89|     0|\n",
            "|      598|  15567446|   Coffman|        646|  Germany|  Male| 39|     9|111574.41|            1|        1|             1|       30838.51|     0|\n",
            "|      623|  15636444|     Craig|        535|  Germany|Female| 53|     5|141616.55|            2|        1|             1|       75888.65|     0|\n",
            "|      644|  15640078|  Chambers|        660|  Germany|Female| 39|     5|135134.99|            1|        1|             0|       173683.0|     1|\n",
            "+---------+----------+----------+-----------+---------+------+---+------+---------+-------------+---------+--------------+---------------+------+\n",
            "only showing top 20 rows\n",
            "\n"
          ],
          "name": "stdout"
        }
      ]
    },
    {
      "cell_type": "code",
      "metadata": {
        "id": "FGhG1YkWh2Ql"
      },
      "source": [
        "churn_gender_filter_df=churn_df.filter(col('Gender').startswith('M'))"
      ],
      "execution_count": 28,
      "outputs": []
    },
    {
      "cell_type": "code",
      "metadata": {
        "colab": {
          "base_uri": "https://localhost:8080/"
        },
        "id": "ZhFA7afYj33W",
        "outputId": "c0567153-9c37-4699-dcf6-bf691b78d587"
      },
      "source": [
        "churn_gender_filter_df.show()"
      ],
      "execution_count": 29,
      "outputs": [
        {
          "output_type": "stream",
          "text": [
            "+---------+----------+-------------+-----------+---------+------+---+------+---------+-------------+---------+--------------+---------------+------+\n",
            "|RowNumber|CustomerId|      Surname|CreditScore|Geography|Gender|Age|Tenure|  Balance|NumOfProducts|HasCrCard|IsActiveMember|EstimatedSalary|Exited|\n",
            "+---------+----------+-------------+-----------+---------+------+---+------+---------+-------------+---------+--------------+---------------+------+\n",
            "|        6|  15574012|          Chu|        645|    Spain|  Male| 44|     8|113755.78|            2|        1|             0|      149756.71|     1|\n",
            "|        7|  15592531|     Bartlett|        822|   France|  Male| 50|     7|      0.0|            2|        1|             1|        10062.8|     0|\n",
            "|        9|  15792365|           He|        501|   France|  Male| 44|     4|142051.07|            2|        0|             1|        74940.5|     0|\n",
            "|       10|  15592389|           H?|        684|   France|  Male| 27|     2|134603.88|            1|        1|             1|       71725.73|     0|\n",
            "|       11|  15767821|       Bearce|        528|   France|  Male| 31|     6|102016.72|            2|        0|             0|       80181.12|     0|\n",
            "|       12|  15737173|      Andrews|        497|    Spain|  Male| 24|     3|      0.0|            2|        1|             0|       76390.01|     0|\n",
            "|       16|  15643966|      Goforth|        616|  Germany|  Male| 45|     3|143129.41|            2|        0|             1|       64327.26|     0|\n",
            "|       17|  15737452|        Romeo|        653|  Germany|  Male| 58|     1|132602.88|            1|        1|             0|        5097.67|     1|\n",
            "|       19|  15661507|      Muldrow|        587|    Spain|  Male| 45|     6|      0.0|            1|        0|             0|      158684.81|     0|\n",
            "|       21|  15577657|     McDonald|        732|   France|  Male| 41|     8|      0.0|            2|        1|             1|      170886.17|     0|\n",
            "|       24|  15725737|       Mosman|        669|   France|  Male| 46|     3|      0.0|            2|        0|             1|        8487.75|     0|\n",
            "|       26|  15738191|      Maclean|        577|   France|  Male| 25|     3|      0.0|            2|        0|             1|      124508.29|     0|\n",
            "|       27|  15736816|        Young|        756|  Germany|  Male| 36|     2|136815.64|            1|        1|             1|      170041.95|     0|\n",
            "|       28|  15700772|      Nebechi|        571|   France|  Male| 44|     9|      0.0|            2|        0|             0|       38433.35|     0|\n",
            "|       30|  15656300|     Lucciano|        411|   France|  Male| 29|     0| 59697.17|            2|        1|             1|       53483.21|     0|\n",
            "|       32|  15706552|Odinakachukwu|        533|   France|  Male| 36|     7|  85311.7|            1|        0|             1|      156731.91|     0|\n",
            "|       33|  15750181|    Sanderson|        553|  Germany|  Male| 41|     9|110112.54|            2|        0|             0|       81898.81|     0|\n",
            "|       37|  15788448|       Watson|        490|    Spain|  Male| 31|     3|145260.23|            1|        0|             1|      114066.77|     0|\n",
            "|       38|  15729599|      Lorenzo|        804|    Spain|  Male| 33|     7|  76548.6|            1|        0|             1|       98453.45|     0|\n",
            "|       39|  15717426|    Armstrong|        850|   France|  Male| 36|     7|      0.0|            1|        1|             1|        40812.9|     0|\n",
            "+---------+----------+-------------+-----------+---------+------+---+------+---------+-------------+---------+--------------+---------------+------+\n",
            "only showing top 20 rows\n",
            "\n"
          ],
          "name": "stdout"
        }
      ]
    },
    {
      "cell_type": "code",
      "metadata": {
        "colab": {
          "base_uri": "https://localhost:8080/"
        },
        "id": "Cws4YGs5j98C",
        "outputId": "554aec19-66ec-456f-c6d5-e36a9baa8194"
      },
      "source": [
        "churn_df.first()"
      ],
      "execution_count": 33,
      "outputs": [
        {
          "output_type": "execute_result",
          "data": {
            "text/plain": [
              "Row(RowNumber=1, CustomerId=15634602, Surname='Hargrave', CreditScore=619, Geography='France', Gender='Female', Age=42, Tenure=2, Balance=0.0, NumOfProducts=1, HasCrCard=1, IsActiveMember=1, EstimatedSalary=101348.88, Exited=1)"
            ]
          },
          "metadata": {
            "tags": []
          },
          "execution_count": 33
        }
      ]
    },
    {
      "cell_type": "code",
      "metadata": {
        "colab": {
          "base_uri": "https://localhost:8080/"
        },
        "id": "AeqUtxEc5VQu",
        "outputId": "88c78f93-f89c-4d6a-886f-29750e6226f3"
      },
      "source": [
        "churn_df.take(5)"
      ],
      "execution_count": 35,
      "outputs": [
        {
          "output_type": "execute_result",
          "data": {
            "text/plain": [
              "[Row(RowNumber=1, CustomerId=15634602, Surname='Hargrave', CreditScore=619, Geography='France', Gender='Female', Age=42, Tenure=2, Balance=0.0, NumOfProducts=1, HasCrCard=1, IsActiveMember=1, EstimatedSalary=101348.88, Exited=1),\n",
              " Row(RowNumber=2, CustomerId=15647311, Surname='Hill', CreditScore=608, Geography='Spain', Gender='Female', Age=41, Tenure=1, Balance=83807.86, NumOfProducts=1, HasCrCard=0, IsActiveMember=1, EstimatedSalary=112542.58, Exited=0),\n",
              " Row(RowNumber=3, CustomerId=15619304, Surname='Onio', CreditScore=502, Geography='France', Gender='Female', Age=42, Tenure=8, Balance=159660.8, NumOfProducts=3, HasCrCard=1, IsActiveMember=0, EstimatedSalary=113931.57, Exited=1),\n",
              " Row(RowNumber=4, CustomerId=15701354, Surname='Boni', CreditScore=699, Geography='France', Gender='Female', Age=39, Tenure=1, Balance=0.0, NumOfProducts=2, HasCrCard=0, IsActiveMember=0, EstimatedSalary=93826.63, Exited=0),\n",
              " Row(RowNumber=5, CustomerId=15737888, Surname='Mitchell', CreditScore=850, Geography='Spain', Gender='Female', Age=43, Tenure=2, Balance=125510.82, NumOfProducts=1, HasCrCard=1, IsActiveMember=1, EstimatedSalary=79084.1, Exited=0)]"
            ]
          },
          "metadata": {
            "tags": []
          },
          "execution_count": 35
        }
      ]
    },
    {
      "cell_type": "code",
      "metadata": {
        "colab": {
          "base_uri": "https://localhost:8080/"
        },
        "id": "eHF8r3acFC54",
        "outputId": "85dbf52b-a325-4a7f-ce03-46cf9d6f2522"
      },
      "source": [
        "churn_df.filter(\"Geography='Germany'\").sort(col(\"Surname\"), ascending=False).show()\r\n"
      ],
      "execution_count": 36,
      "outputs": [
        {
          "output_type": "stream",
          "text": [
            "+---------+----------+----------------+-----------+---------+------+---+------+---------+-------------+---------+--------------+---------------+------+\n",
            "|RowNumber|CustomerId|         Surname|CreditScore|Geography|Gender|Age|Tenure|  Balance|NumOfProducts|HasCrCard|IsActiveMember|EstimatedSalary|Exited|\n",
            "+---------+----------+----------------+-----------+---------+------+---+------+---------+-------------+---------+--------------+---------------+------+\n",
            "|     6386|  15706810|          Zuyeva|        606|  Germany|Female| 32|     1|106301.85|            2|        0|             1|       59061.25|     0|\n",
            "|     6974|  15583394|           Zuyev|        659|  Germany|  Male| 39|     8|106259.63|            2|        1|             1|      198103.32|     0|\n",
            "|     8709|  15776939|             Zox|        778|  Germany|Female| 48|     3|102290.56|            2|        1|             0|      182691.31|     0|\n",
            "|     4511|  15657747|            Zito|        611|  Germany|Female| 43|     9|127216.31|            2|        0|             1|       17913.25|     0|\n",
            "|     5335|  15813681|            Zito|        786|  Germany|  Male| 24|     2|120135.55|            2|        1|             1|      125449.47|     0|\n",
            "|     4892|  15676958|            Zito|        765|  Germany|  Male| 34|     5| 86055.17|            2|        1|             1|       104220.5|     0|\n",
            "|     1019|  15602010|Zikoranaudodimma|        850|  Germany|Female| 45|     5|103909.86|            1|        1|             0|       60083.11|     1|\n",
            "|     5291|  15743490|Zikoranachidimma|        795|  Germany|Female| 56|     9| 94348.94|            1|        1|             0|       29239.29|     1|\n",
            "|     2248|  15785485|            Zhou|        595|  Germany|Female| 41|     2|138878.81|            1|        0|             1|      112269.67|     0|\n",
            "|      270|  15799217|        Zetticci|        791|  Germany|Female| 35|     7|  52436.2|            1|        1|             0|      161051.75|     0|\n",
            "|     4278|  15797910|        Zetticci|        775|  Germany|  Male| 51|     2|123783.25|            1|        1|             1|      134901.57|     0|\n",
            "|     9163|  15606097|        Zakharov|        665|  Germany|  Male| 63|     7|104469.58|            1|        1|             1|       25165.36|     1|\n",
            "|     7804|  15691504|        Yusupova|        619|  Germany|Female| 52|     8|124099.13|            1|        0|             0|       23904.52|     0|\n",
            "|     4884|  15593280|         Yuryeva|        614|  Germany|  Male| 43|     8|140733.74|            1|        1|             1|      166588.76|     0|\n",
            "|     2824|  15764351|         Yuryeva|        668|  Germany|Female| 59|     5|120170.07|            1|        0|             1|        50454.8|     0|\n",
            "|     2718|  15648702|          Yuriev|        775|  Germany|  Male| 70|     6|119684.88|            2|        1|             1|       74532.02|     0|\n",
            "|       98|  15693683|          Yuille|        814|  Germany|  Male| 29|     8|  97086.4|            2|        1|             1|      197276.13|     0|\n",
            "|     1748|  15659486|          Yudina|        586|  Germany|  Male| 34|     9| 74309.81|            1|        1|             0|       15034.93|     0|\n",
            "|     9600|  15690456|          Yudina|        749|  Germany|Female| 32|     7| 79523.13|            1|        0|             1|      157648.12|     0|\n",
            "|     3960|  15663164|           Yudin|        663|  Germany|  Male| 49|     7|116150.65|            3|        1|             1|       84358.71|     1|\n",
            "+---------+----------+----------------+-----------+---------+------+---+------+---------+-------------+---------+--------------+---------------+------+\n",
            "only showing top 20 rows\n",
            "\n"
          ],
          "name": "stdout"
        }
      ]
    },
    {
      "cell_type": "code",
      "metadata": {
        "colab": {
          "base_uri": "https://localhost:8080/"
        },
        "id": "INHI6CEfJZOb",
        "outputId": "276a9ed3-bcca-4119-cd51-1f3443825800"
      },
      "source": [
        "churn_df.filter(\"Geography='Germany'\").orderBy(col(\"Surname\"), ascending=True).show()"
      ],
      "execution_count": 38,
      "outputs": [
        {
          "output_type": "stream",
          "text": [
            "+---------+----------+-----------+-----------+---------+------+---+------+---------+-------------+---------+--------------+---------------+------+\n",
            "|RowNumber|CustomerId|    Surname|CreditScore|Geography|Gender|Age|Tenure|  Balance|NumOfProducts|HasCrCard|IsActiveMember|EstimatedSalary|Exited|\n",
            "+---------+----------+-----------+-----------+---------+------+---+------+---------+-------------+---------+--------------+---------------+------+\n",
            "|     6085|  15619494|    Abdulov|        562|  Germany|Female| 31|     9| 117153.0|            1|        1|             1|      108675.01|     0|\n",
            "|     5461|  15668894|   Abramova|        661|  Germany|  Male| 41|     5|122552.48|            2|        0|             1|       120646.4|     0|\n",
            "|     8952|  15636388|     Abrego|        702|  Germany|Female| 23|     7| 98775.23|            1|        1|             0|      114603.96|     0|\n",
            "|     8807|  15598940|     Achebe|        681|  Germany|  Male| 38|     6|181804.34|            2|        1|             1|       57517.71|     0|\n",
            "|      683|  15775238|     Achebe|        651|  Germany|Female| 41|     4|133432.59|            1|        0|             1|      151303.48|     0|\n",
            "|     9762|  15736778|      Adams|        807|  Germany|Female| 60|     1| 72948.58|            2|        1|             1|       17355.36|     0|\n",
            "|     8333|  15814772|      Adams|        645|  Germany|  Male| 49|     4|160133.88|            1|        0|             1|       88391.97|     0|\n",
            "|     9860|  15615430|      Adams|        678|  Germany|  Male| 55|     4|129646.91|            1|        1|             1|       184125.1|     1|\n",
            "|     4115|  15647008|      Adams|        624|  Germany|  Male| 54|     3|116726.22|            1|        1|             0|       110498.1|     1|\n",
            "|     8085|  15736146|  Afamefula|        608|  Germany|  Male| 28|     4| 96679.71|            1|        1|             1|       49133.45|     0|\n",
            "|     7471|  15602456|  Afanasyev|        850|  Germany|Female| 47|     4| 99219.47|            2|        1|             1|      122141.13|     0|\n",
            "|     8364|  15677336|     Aitken|        557|  Germany|  Male| 57|     1|120043.13|            1|        1|             0|      132370.75|     1|\n",
            "|     5179|  15794849|     Aitken|        850|  Germany|  Male| 22|     7| 91560.58|            2|        0|             0|       10541.38|     0|\n",
            "|     8981|  15786433|     Aitken|        650|  Germany|Female| 35|     3|165982.43|            2|        1|             1|       24482.16|     0|\n",
            "|     8826|  15797081|Ajuluchukwu|        611|  Germany|Female| 49|     9|115488.52|            2|        1|             1|      138656.81|     1|\n",
            "|     9068|  15684645|Ajuluchukwu|        704|  Germany|  Male| 41|     9| 62078.21|            2|        1|             0|      129050.67|     0|\n",
            "|     6695|  15576706|Ajuluchukwu|        651|  Germany|  Male| 37|     9|114453.58|            1|        0|             1|      175820.91|     0|\n",
            "|     9784|  15680430|Ajuluchukwu|        601|  Germany|Female| 49|     4| 96252.98|            2|        1|             0|      104263.82|     0|\n",
            "|     7399|  15577771|   Akabueze|        453|  Germany|Female| 40|     1|111524.49|            1|        1|             1|      120373.84|     1|\n",
            "|     7734|  15596013|     Akhtar|        694|  Germany|Female| 58|     1|143212.22|            1|        0|             0|      102628.56|     1|\n",
            "+---------+----------+-----------+-----------+---------+------+---+------+---------+-------------+---------+--------------+---------------+------+\n",
            "only showing top 20 rows\n",
            "\n"
          ],
          "name": "stdout"
        }
      ]
    },
    {
      "cell_type": "code",
      "metadata": {
        "colab": {
          "base_uri": "https://localhost:8080/"
        },
        "id": "kOQzyA21JnkY",
        "outputId": "c68f9a48-06b9-43b5-cd2c-5bb3edc8c69b"
      },
      "source": [
        "churn_df.filter(\"Geography='Germany'\").sortWithinPartitions([col(\"IsActiveMember\"),col(\"NumOfProducts\")], ascending=False).show()"
      ],
      "execution_count": 40,
      "outputs": [
        {
          "output_type": "stream",
          "text": [
            "+---------+----------+----------------+-----------+---------+------+---+------+---------+-------------+---------+--------------+---------------+------+\n",
            "|RowNumber|CustomerId|         Surname|CreditScore|Geography|Gender|Age|Tenure|  Balance|NumOfProducts|HasCrCard|IsActiveMember|EstimatedSalary|Exited|\n",
            "+---------+----------+----------------+-----------+---------+------+---+------+---------+-------------+---------+--------------+---------------+------+\n",
            "|     1877|  15664754|          Steele|        640|  Germany|  Male| 39|     9|131607.28|            4|        0|             1|        6981.43|     1|\n",
            "|     2197|  15791700|Ugochukwutubelum|        773|  Germany|  Male| 47|     2|118079.47|            4|        1|             1|      143007.49|     1|\n",
            "|     2286|  15783615|           Ramos|        630|  Germany|  Male| 50|     3|129370.91|            4|        1|             1|       47775.34|     1|\n",
            "|     2618|  15602735|             Kuo|        692|  Germany|  Male| 45|     6|152296.83|            4|        0|             1|      108040.86|     1|\n",
            "|     4015|  15597914|       Evdokimov|        641|  Germany|Female| 51|     2|117306.69|            4|        1|             1|       26912.72|     1|\n",
            "|     4517|  15812210|         Yashina|        497|  Germany|Female| 32|     8|111537.23|            4|        1|             1|        9497.99|     1|\n",
            "|     4749|  15759067|          Bromby|        537|  Germany|Female| 37|     7|158411.95|            4|        1|             1|      117690.58|     1|\n",
            "|     5011|  15719508|           Davis|        575|  Germany|  Male| 49|     7|121205.15|            4|        1|             1|      168080.53|     1|\n",
            "|     6173|  15656822|             Day|        568|  Germany|  Male| 43|     5| 87612.64|            4|        1|             1|       107155.4|     1|\n",
            "|     9216|  15624180|        Genovesi|        584|  Germany|Female| 37|    10| 134171.8|            4|        1|             1|       70927.11|     1|\n",
            "|      228|  15676895|        Cattaneo|        547|  Germany|Female| 39|     6| 74596.15|            3|        1|             1|       85746.52|     1|\n",
            "|      377|  15583456|        Gardiner|        745|  Germany|  Male| 45|    10|117231.63|            3|        1|             1|      122381.02|     1|\n",
            "|      414|  15801559|          Chiang|        693|  Germany|Female| 41|     9|181461.48|            3|        1|             1|      187929.43|     1|\n",
            "|      539|  15794142|        Ferreira|        564|  Germany|Female| 62|     5|114931.35|            3|        0|             1|       18260.98|     1|\n",
            "|      765|  15672056|         Kenenna|        710|  Germany|  Male| 43|     2|140080.32|            3|        1|             1|      157908.19|     1|\n",
            "|      814|  15775306|              Ni|        421|  Germany|  Male| 28|     8|122384.22|            3|        1|             1|       89017.38|     1|\n",
            "|     1097|  15813168|         Maslova|        756|  Germany|Female| 39|     3|100717.85|            3|        1|             1|       73406.04|     1|\n",
            "|     1956|  15779176|            Dike|        565|  Germany|Female| 58|     3|108888.24|            3|        0|             1|      135875.51|     1|\n",
            "|     2211|  15769917|       Onyekachi|        673|  Germany|Female| 34|     1|127122.79|            3|        0|             1|        76703.1|     0|\n",
            "|     2422|  15574842|         Lorenzo|        653|  Germany|Female| 25|     2|158266.42|            3|        1|             1|      199357.24|     0|\n",
            "+---------+----------+----------------+-----------+---------+------+---+------+---------+-------------+---------+--------------+---------------+------+\n",
            "only showing top 20 rows\n",
            "\n"
          ],
          "name": "stdout"
        }
      ]
    },
    {
      "cell_type": "code",
      "metadata": {
        "colab": {
          "base_uri": "https://localhost:8080/"
        },
        "id": "2CGrOyMOKFmL",
        "outputId": "e8f50cb9-afc2-4a69-982d-10d8a23ad2c1"
      },
      "source": [
        "\r\n",
        "churn_df.printSchema()"
      ],
      "execution_count": 41,
      "outputs": [
        {
          "output_type": "stream",
          "text": [
            "root\n",
            " |-- RowNumber: integer (nullable = true)\n",
            " |-- CustomerId: integer (nullable = true)\n",
            " |-- Surname: string (nullable = true)\n",
            " |-- CreditScore: integer (nullable = true)\n",
            " |-- Geography: string (nullable = true)\n",
            " |-- Gender: string (nullable = true)\n",
            " |-- Age: integer (nullable = true)\n",
            " |-- Tenure: integer (nullable = true)\n",
            " |-- Balance: double (nullable = true)\n",
            " |-- NumOfProducts: integer (nullable = true)\n",
            " |-- HasCrCard: integer (nullable = true)\n",
            " |-- IsActiveMember: integer (nullable = true)\n",
            " |-- EstimatedSalary: double (nullable = true)\n",
            " |-- Exited: integer (nullable = true)\n",
            "\n"
          ],
          "name": "stdout"
        }
      ]
    },
    {
      "cell_type": "code",
      "metadata": {
        "colab": {
          "base_uri": "https://localhost:8080/"
        },
        "id": "W1K6qpDdKSbu",
        "outputId": "7b64be2f-71db-46a4-b773-f22892af13dc"
      },
      "source": [
        "churn_df.filter('CreditScore>700').sort(col('Age')).show()"
      ],
      "execution_count": 42,
      "outputs": [
        {
          "output_type": "stream",
          "text": [
            "+---------+----------+-----------+-----------+---------+------+---+------+---------+-------------+---------+--------------+---------------+------+\n",
            "|RowNumber|CustomerId|    Surname|CreditScore|Geography|Gender|Age|Tenure|  Balance|NumOfProducts|HasCrCard|IsActiveMember|EstimatedSalary|Exited|\n",
            "+---------+----------+-----------+-----------+---------+------+---+------+---------+-------------+---------+--------------+---------------+------+\n",
            "|     2022|  15795519|   Vasiliev|        716|  Germany|Female| 18|     3| 128743.8|            1|        0|             0|      197322.13|     0|\n",
            "|     3518|  15757821|    Burgess|        771|    Spain|  Male| 18|     1|      0.0|            2|        0|             0|       41542.95|     0|\n",
            "|     2137|  15621893|   Bellucci|        727|   France|  Male| 18|     4|133550.67|            1|        1|             1|       46941.41|     0|\n",
            "|     3687|  15665327|   Cattaneo|        706|   France|  Male| 18|     2| 176139.5|            2|        1|             0|      129654.22|     0|\n",
            "|     9502|  15634146|        Hou|        835|  Germany|  Male| 18|     2|142872.36|            1|        1|             1|      117632.63|     0|\n",
            "|     3331|  15657439|       Chao|        738|   France|  Male| 18|     4|      0.0|            2|        1|             1|       47799.15|     0|\n",
            "|     9521|  15673180|Onyekaozulu|        727|  Germany|Female| 18|     2|  93816.7|            2|        1|             0|      126172.11|     0|\n",
            "|     3513|  15657779|     Boylan|        806|    Spain|  Male| 18|     3|      0.0|            2|        1|             1|       86994.54|     0|\n",
            "|      747|  15787619|      Hsieh|        844|   France|  Male| 18|     2|160980.03|            1|        0|             0|      145936.28|     0|\n",
            "|     3296|  15654296|    Estrada|        754|    Spain|Female| 19|     9|      0.0|            1|        1|             0|      189641.11|     0|\n",
            "|       58|  15647091|   Endrizzi|        725|  Germany|  Male| 19|     0|  75888.2|            1|        0|             0|       45613.75|     0|\n",
            "|     4331|  15666652|  Anayolisa|        781|   France|Female| 19|     3|      0.0|            2|        1|             1|      124297.32|     0|\n",
            "|     3240|  15776844|        Hao|        762|    Spain|Female| 19|     6|      0.0|            2|        1|             0|       55500.17|     0|\n",
            "|     3096|  15680243|      Brown|        792|   France|  Male| 19|     7|143390.51|            1|        1|             0|       33282.84|     0|\n",
            "|     6888|  15662641|      Amadi|        850|   France|  Male| 19|     8|      0.0|            1|        1|             1|       68569.89|     0|\n",
            "|     4793|  15809991|    Ferrari|        756|    Spain|  Male| 19|     4|130274.22|            1|        1|             1|      133535.29|     0|\n",
            "|     6004|  15579892|      Doyle|        708|    Spain|  Male| 19|     7|112615.86|            1|        1|             1|        4491.77|     0|\n",
            "|     8787|  15770968|     Leason|        741|  Germany|Female| 19|     8|108711.57|            2|        1|             0|       24857.25|     0|\n",
            "|     3632|  15794841|       Kung|        739|    Spain|  Male| 19|     5| 89750.21|            1|        1|             0|      193008.52|     0|\n",
            "|     8585|  15732967|  Cremonesi|        731|   France|  Male| 19|     6|      0.0|            2|        1|             1|      151581.79|     0|\n",
            "+---------+----------+-----------+-----------+---------+------+---+------+---------+-------------+---------+--------------+---------------+------+\n",
            "only showing top 20 rows\n",
            "\n"
          ],
          "name": "stdout"
        }
      ]
    },
    {
      "cell_type": "code",
      "metadata": {
        "id": "Slw74EIIKiaS"
      },
      "source": [
        "max_age=churn_df.agg({\"Age\":\"max\"})"
      ],
      "execution_count": 44,
      "outputs": []
    },
    {
      "cell_type": "code",
      "metadata": {
        "colab": {
          "base_uri": "https://localhost:8080/"
        },
        "id": "r0VOphsMK2O7",
        "outputId": "3d8a05a2-3a06-4db4-d15f-b0fdc486fe1e"
      },
      "source": [
        "max_age.show()"
      ],
      "execution_count": 46,
      "outputs": [
        {
          "output_type": "stream",
          "text": [
            "+--------+\n",
            "|max(Age)|\n",
            "+--------+\n",
            "|      92|\n",
            "+--------+\n",
            "\n"
          ],
          "name": "stdout"
        }
      ]
    },
    {
      "cell_type": "code",
      "metadata": {
        "colab": {
          "base_uri": "https://localhost:8080/"
        },
        "id": "4EW9KnQxK5Ah",
        "outputId": "26db3db2-3772-4d57-e01e-295e2ad51775"
      },
      "source": [
        "import pyspark.sql.functions as F\r\n",
        "churn_df.groupBy(\"Geography\",\"Age\").agg(F.max(\"NumOfProducts\")).show()"
      ],
      "execution_count": 47,
      "outputs": [
        {
          "output_type": "stream",
          "text": [
            "+---------+---+------------------+\n",
            "|Geography|Age|max(NumOfProducts)|\n",
            "+---------+---+------------------+\n",
            "|  Germany| 54|                 3|\n",
            "|   France| 92|                 2|\n",
            "|    Spain| 77|                 1|\n",
            "|    Spain| 42|                 3|\n",
            "|   France| 75|                 2|\n",
            "|    Spain| 43|                 2|\n",
            "|    Spain| 74|                 2|\n",
            "|   France| 80|                 2|\n",
            "|    Spain| 49|                 3|\n",
            "|    Spain| 51|                 3|\n",
            "|  Germany| 74|                 2|\n",
            "|    Spain| 88|                 2|\n",
            "|    Spain| 18|                 2|\n",
            "|    Spain| 23|                 2|\n",
            "|   France| 47|                 4|\n",
            "|   France| 25|                 3|\n",
            "|  Germany| 19|                 2|\n",
            "|  Germany| 48|                 3|\n",
            "|   France| 42|                 4|\n",
            "|    Spain| 61|                 2|\n",
            "+---------+---+------------------+\n",
            "only showing top 20 rows\n",
            "\n"
          ],
          "name": "stdout"
        }
      ]
    },
    {
      "cell_type": "code",
      "metadata": {
        "colab": {
          "base_uri": "https://localhost:8080/"
        },
        "id": "NEZ-bw_TLscW",
        "outputId": "30f9185b-8f74-474b-a69a-f5d4d9b1688b"
      },
      "source": [
        "churn_df.groupBy(\"Geography\").agg({'NumOfProducts':'sum'}).show()"
      ],
      "execution_count": 49,
      "outputs": [
        {
          "output_type": "stream",
          "text": [
            "+---------+------------------+\n",
            "|Geography|sum(NumOfProducts)|\n",
            "+---------+------------------+\n",
            "|  Germany|              3813|\n",
            "|   France|              7676|\n",
            "|    Spain|              3813|\n",
            "+---------+------------------+\n",
            "\n"
          ],
          "name": "stdout"
        }
      ]
    },
    {
      "cell_type": "code",
      "metadata": {
        "id": "EZnkedoxMGcj"
      },
      "source": [
        "pd=churn_df.toPandas()"
      ],
      "execution_count": 50,
      "outputs": []
    },
    {
      "cell_type": "code",
      "metadata": {
        "colab": {
          "base_uri": "https://localhost:8080/",
          "height": 373
        },
        "id": "MW6yBkc3Ma9X",
        "outputId": "e6bf3e05-473f-4edb-d04e-d3c3673ccd22"
      },
      "source": [
        "pd.corr()"
      ],
      "execution_count": 51,
      "outputs": [
        {
          "output_type": "execute_result",
          "data": {
            "text/html": [
              "<div>\n",
              "<style scoped>\n",
              "    .dataframe tbody tr th:only-of-type {\n",
              "        vertical-align: middle;\n",
              "    }\n",
              "\n",
              "    .dataframe tbody tr th {\n",
              "        vertical-align: top;\n",
              "    }\n",
              "\n",
              "    .dataframe thead th {\n",
              "        text-align: right;\n",
              "    }\n",
              "</style>\n",
              "<table border=\"1\" class=\"dataframe\">\n",
              "  <thead>\n",
              "    <tr style=\"text-align: right;\">\n",
              "      <th></th>\n",
              "      <th>RowNumber</th>\n",
              "      <th>CustomerId</th>\n",
              "      <th>CreditScore</th>\n",
              "      <th>Age</th>\n",
              "      <th>Tenure</th>\n",
              "      <th>Balance</th>\n",
              "      <th>NumOfProducts</th>\n",
              "      <th>HasCrCard</th>\n",
              "      <th>IsActiveMember</th>\n",
              "      <th>EstimatedSalary</th>\n",
              "      <th>Exited</th>\n",
              "    </tr>\n",
              "  </thead>\n",
              "  <tbody>\n",
              "    <tr>\n",
              "      <th>RowNumber</th>\n",
              "      <td>1.000000</td>\n",
              "      <td>0.004202</td>\n",
              "      <td>0.005840</td>\n",
              "      <td>0.000783</td>\n",
              "      <td>-0.006495</td>\n",
              "      <td>-0.009067</td>\n",
              "      <td>0.007246</td>\n",
              "      <td>0.000599</td>\n",
              "      <td>0.012044</td>\n",
              "      <td>-0.005988</td>\n",
              "      <td>-0.016571</td>\n",
              "    </tr>\n",
              "    <tr>\n",
              "      <th>CustomerId</th>\n",
              "      <td>0.004202</td>\n",
              "      <td>1.000000</td>\n",
              "      <td>0.005308</td>\n",
              "      <td>0.009497</td>\n",
              "      <td>-0.014883</td>\n",
              "      <td>-0.012419</td>\n",
              "      <td>0.016972</td>\n",
              "      <td>-0.014025</td>\n",
              "      <td>0.001665</td>\n",
              "      <td>0.015271</td>\n",
              "      <td>-0.006248</td>\n",
              "    </tr>\n",
              "    <tr>\n",
              "      <th>CreditScore</th>\n",
              "      <td>0.005840</td>\n",
              "      <td>0.005308</td>\n",
              "      <td>1.000000</td>\n",
              "      <td>-0.003965</td>\n",
              "      <td>0.000842</td>\n",
              "      <td>0.006268</td>\n",
              "      <td>0.012238</td>\n",
              "      <td>-0.005458</td>\n",
              "      <td>0.025651</td>\n",
              "      <td>-0.001384</td>\n",
              "      <td>-0.027094</td>\n",
              "    </tr>\n",
              "    <tr>\n",
              "      <th>Age</th>\n",
              "      <td>0.000783</td>\n",
              "      <td>0.009497</td>\n",
              "      <td>-0.003965</td>\n",
              "      <td>1.000000</td>\n",
              "      <td>-0.009997</td>\n",
              "      <td>0.028308</td>\n",
              "      <td>-0.030680</td>\n",
              "      <td>-0.011721</td>\n",
              "      <td>0.085472</td>\n",
              "      <td>-0.007201</td>\n",
              "      <td>0.285323</td>\n",
              "    </tr>\n",
              "    <tr>\n",
              "      <th>Tenure</th>\n",
              "      <td>-0.006495</td>\n",
              "      <td>-0.014883</td>\n",
              "      <td>0.000842</td>\n",
              "      <td>-0.009997</td>\n",
              "      <td>1.000000</td>\n",
              "      <td>-0.012254</td>\n",
              "      <td>0.013444</td>\n",
              "      <td>0.022583</td>\n",
              "      <td>-0.028362</td>\n",
              "      <td>0.007784</td>\n",
              "      <td>-0.014001</td>\n",
              "    </tr>\n",
              "    <tr>\n",
              "      <th>Balance</th>\n",
              "      <td>-0.009067</td>\n",
              "      <td>-0.012419</td>\n",
              "      <td>0.006268</td>\n",
              "      <td>0.028308</td>\n",
              "      <td>-0.012254</td>\n",
              "      <td>1.000000</td>\n",
              "      <td>-0.304180</td>\n",
              "      <td>-0.014858</td>\n",
              "      <td>-0.010084</td>\n",
              "      <td>0.012797</td>\n",
              "      <td>0.118533</td>\n",
              "    </tr>\n",
              "    <tr>\n",
              "      <th>NumOfProducts</th>\n",
              "      <td>0.007246</td>\n",
              "      <td>0.016972</td>\n",
              "      <td>0.012238</td>\n",
              "      <td>-0.030680</td>\n",
              "      <td>0.013444</td>\n",
              "      <td>-0.304180</td>\n",
              "      <td>1.000000</td>\n",
              "      <td>0.003183</td>\n",
              "      <td>0.009612</td>\n",
              "      <td>0.014204</td>\n",
              "      <td>-0.047820</td>\n",
              "    </tr>\n",
              "    <tr>\n",
              "      <th>HasCrCard</th>\n",
              "      <td>0.000599</td>\n",
              "      <td>-0.014025</td>\n",
              "      <td>-0.005458</td>\n",
              "      <td>-0.011721</td>\n",
              "      <td>0.022583</td>\n",
              "      <td>-0.014858</td>\n",
              "      <td>0.003183</td>\n",
              "      <td>1.000000</td>\n",
              "      <td>-0.011866</td>\n",
              "      <td>-0.009933</td>\n",
              "      <td>-0.007138</td>\n",
              "    </tr>\n",
              "    <tr>\n",
              "      <th>IsActiveMember</th>\n",
              "      <td>0.012044</td>\n",
              "      <td>0.001665</td>\n",
              "      <td>0.025651</td>\n",
              "      <td>0.085472</td>\n",
              "      <td>-0.028362</td>\n",
              "      <td>-0.010084</td>\n",
              "      <td>0.009612</td>\n",
              "      <td>-0.011866</td>\n",
              "      <td>1.000000</td>\n",
              "      <td>-0.011421</td>\n",
              "      <td>-0.156128</td>\n",
              "    </tr>\n",
              "    <tr>\n",
              "      <th>EstimatedSalary</th>\n",
              "      <td>-0.005988</td>\n",
              "      <td>0.015271</td>\n",
              "      <td>-0.001384</td>\n",
              "      <td>-0.007201</td>\n",
              "      <td>0.007784</td>\n",
              "      <td>0.012797</td>\n",
              "      <td>0.014204</td>\n",
              "      <td>-0.009933</td>\n",
              "      <td>-0.011421</td>\n",
              "      <td>1.000000</td>\n",
              "      <td>0.012097</td>\n",
              "    </tr>\n",
              "    <tr>\n",
              "      <th>Exited</th>\n",
              "      <td>-0.016571</td>\n",
              "      <td>-0.006248</td>\n",
              "      <td>-0.027094</td>\n",
              "      <td>0.285323</td>\n",
              "      <td>-0.014001</td>\n",
              "      <td>0.118533</td>\n",
              "      <td>-0.047820</td>\n",
              "      <td>-0.007138</td>\n",
              "      <td>-0.156128</td>\n",
              "      <td>0.012097</td>\n",
              "      <td>1.000000</td>\n",
              "    </tr>\n",
              "  </tbody>\n",
              "</table>\n",
              "</div>"
            ],
            "text/plain": [
              "                 RowNumber  CustomerId  ...  EstimatedSalary    Exited\n",
              "RowNumber         1.000000    0.004202  ...        -0.005988 -0.016571\n",
              "CustomerId        0.004202    1.000000  ...         0.015271 -0.006248\n",
              "CreditScore       0.005840    0.005308  ...        -0.001384 -0.027094\n",
              "Age               0.000783    0.009497  ...        -0.007201  0.285323\n",
              "Tenure           -0.006495   -0.014883  ...         0.007784 -0.014001\n",
              "Balance          -0.009067   -0.012419  ...         0.012797  0.118533\n",
              "NumOfProducts     0.007246    0.016972  ...         0.014204 -0.047820\n",
              "HasCrCard         0.000599   -0.014025  ...        -0.009933 -0.007138\n",
              "IsActiveMember    0.012044    0.001665  ...        -0.011421 -0.156128\n",
              "EstimatedSalary  -0.005988    0.015271  ...         1.000000  0.012097\n",
              "Exited           -0.016571   -0.006248  ...         0.012097  1.000000\n",
              "\n",
              "[11 rows x 11 columns]"
            ]
          },
          "metadata": {
            "tags": []
          },
          "execution_count": 51
        }
      ]
    },
    {
      "cell_type": "code",
      "metadata": {
        "id": "rfB8VWXdMcsB"
      },
      "source": [
        "churn_df.createOrReplaceTempView(\"churn\")"
      ],
      "execution_count": 52,
      "outputs": []
    },
    {
      "cell_type": "code",
      "metadata": {
        "colab": {
          "base_uri": "https://localhost:8080/"
        },
        "id": "YRH72-HrMpwB",
        "outputId": "32e7233e-f4de-4283-89ee-2052fe69c434"
      },
      "source": [
        "spark.sql(\"select * from churn\").show()"
      ],
      "execution_count": 53,
      "outputs": [
        {
          "output_type": "stream",
          "text": [
            "+---------+----------+---------+-----------+---------+------+---+------+---------+-------------+---------+--------------+---------------+------+\n",
            "|RowNumber|CustomerId|  Surname|CreditScore|Geography|Gender|Age|Tenure|  Balance|NumOfProducts|HasCrCard|IsActiveMember|EstimatedSalary|Exited|\n",
            "+---------+----------+---------+-----------+---------+------+---+------+---------+-------------+---------+--------------+---------------+------+\n",
            "|        1|  15634602| Hargrave|        619|   France|Female| 42|     2|      0.0|            1|        1|             1|      101348.88|     1|\n",
            "|        2|  15647311|     Hill|        608|    Spain|Female| 41|     1| 83807.86|            1|        0|             1|      112542.58|     0|\n",
            "|        3|  15619304|     Onio|        502|   France|Female| 42|     8| 159660.8|            3|        1|             0|      113931.57|     1|\n",
            "|        4|  15701354|     Boni|        699|   France|Female| 39|     1|      0.0|            2|        0|             0|       93826.63|     0|\n",
            "|        5|  15737888| Mitchell|        850|    Spain|Female| 43|     2|125510.82|            1|        1|             1|        79084.1|     0|\n",
            "|        6|  15574012|      Chu|        645|    Spain|  Male| 44|     8|113755.78|            2|        1|             0|      149756.71|     1|\n",
            "|        7|  15592531| Bartlett|        822|   France|  Male| 50|     7|      0.0|            2|        1|             1|        10062.8|     0|\n",
            "|        8|  15656148|   Obinna|        376|  Germany|Female| 29|     4|115046.74|            4|        1|             0|      119346.88|     1|\n",
            "|        9|  15792365|       He|        501|   France|  Male| 44|     4|142051.07|            2|        0|             1|        74940.5|     0|\n",
            "|       10|  15592389|       H?|        684|   France|  Male| 27|     2|134603.88|            1|        1|             1|       71725.73|     0|\n",
            "|       11|  15767821|   Bearce|        528|   France|  Male| 31|     6|102016.72|            2|        0|             0|       80181.12|     0|\n",
            "|       12|  15737173|  Andrews|        497|    Spain|  Male| 24|     3|      0.0|            2|        1|             0|       76390.01|     0|\n",
            "|       13|  15632264|      Kay|        476|   France|Female| 34|    10|      0.0|            2|        1|             0|       26260.98|     0|\n",
            "|       14|  15691483|     Chin|        549|   France|Female| 25|     5|      0.0|            2|        0|             0|      190857.79|     0|\n",
            "|       15|  15600882|    Scott|        635|    Spain|Female| 35|     7|      0.0|            2|        1|             1|       65951.65|     0|\n",
            "|       16|  15643966|  Goforth|        616|  Germany|  Male| 45|     3|143129.41|            2|        0|             1|       64327.26|     0|\n",
            "|       17|  15737452|    Romeo|        653|  Germany|  Male| 58|     1|132602.88|            1|        1|             0|        5097.67|     1|\n",
            "|       18|  15788218|Henderson|        549|    Spain|Female| 24|     9|      0.0|            2|        1|             1|       14406.41|     0|\n",
            "|       19|  15661507|  Muldrow|        587|    Spain|  Male| 45|     6|      0.0|            1|        0|             0|      158684.81|     0|\n",
            "|       20|  15568982|      Hao|        726|   France|Female| 24|     6|      0.0|            2|        1|             1|       54724.03|     0|\n",
            "+---------+----------+---------+-----------+---------+------+---+------+---------+-------------+---------+--------------+---------------+------+\n",
            "only showing top 20 rows\n",
            "\n"
          ],
          "name": "stdout"
        }
      ]
    },
    {
      "cell_type": "code",
      "metadata": {
        "id": "dEk0e4HZMtos"
      },
      "source": [
        ""
      ],
      "execution_count": null,
      "outputs": []
    }
  ]
}